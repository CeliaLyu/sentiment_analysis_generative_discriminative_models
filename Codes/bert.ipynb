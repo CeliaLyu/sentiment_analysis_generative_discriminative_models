{
 "cells": [
  {
   "cell_type": "code",
   "execution_count": 1,
   "id": "87939d1b-4254-4852-84df-a5c423b4934b",
   "metadata": {},
   "outputs": [
    {
     "name": "stderr",
     "output_type": "stream",
     "text": [
      "[nltk_data] Downloading package stopwords to /home/jz288/nltk_data...\n",
      "[nltk_data]   Package stopwords is already up-to-date!\n",
      "2022-12-18 20:28:36.012173: I tensorflow/core/platform/cpu_feature_guard.cc:193] This TensorFlow binary is optimized with oneAPI Deep Neural Network Library (oneDNN) to use the following CPU instructions in performance-critical operations:  AVX2 AVX512F AVX512_VNNI FMA\n",
      "To enable them in other operations, rebuild TensorFlow with the appropriate compiler flags.\n",
      "2022-12-18 20:28:36.150751: I tensorflow/core/util/port.cc:104] oneDNN custom operations are on. You may see slightly different numerical results due to floating-point round-off errors from different computation orders. To turn them off, set the environment variable `TF_ENABLE_ONEDNN_OPTS=0`.\n",
      "2022-12-18 20:28:36.799824: W tensorflow/compiler/xla/stream_executor/platform/default/dso_loader.cc:64] Could not load dynamic library 'libnvinfer.so.7'; dlerror: libnvinfer.so.7: cannot open shared object file: No such file or directory\n",
      "2022-12-18 20:28:36.799896: W tensorflow/compiler/xla/stream_executor/platform/default/dso_loader.cc:64] Could not load dynamic library 'libnvinfer_plugin.so.7'; dlerror: libnvinfer_plugin.so.7: cannot open shared object file: No such file or directory\n",
      "2022-12-18 20:28:36.799913: W tensorflow/compiler/tf2tensorrt/utils/py_utils.cc:38] TF-TRT Warning: Cannot dlopen some TensorRT libraries. If you would like to use Nvidia GPU with TensorRT, please make sure the missing libraries mentioned above are installed properly.\n"
     ]
    }
   ],
   "source": [
    "from data_utils import load_imdb, get_train_test_split\n",
    "\n",
    "from copy import deepcopy\n",
    "import os, sys, random, functools\n",
    "os.environ['CUDA_VISIBLE_DEVICES'] = '6'\n",
    "import numpy as np\n",
    "from collections import Counter\n",
    "from tqdm import tqdm\n",
    "\n",
    "import torch\n",
    "import torch.nn as nn\n",
    "import torch.nn.functional as F\n",
    "from torch.nn.utils import clip_grad_norm_\n",
    "import torch.optim as optim\n",
    "from torch.utils.data import Dataset, DataLoader\n",
    "\n",
    "torch.backends.cudnn.benchmark = True\n",
    "\n",
    "import nltk\n",
    "nltk.download('stopwords')\n",
    "from nltk.corpus import stopwords\n",
    "\n",
    "from pytorch_pretrained_bert import BertModel, BertTokenizer\n",
    "from tensorflow.keras.preprocessing.sequence import pad_sequences"
   ]
  },
  {
   "attachments": {},
   "cell_type": "markdown",
   "id": "e3f65d04",
   "metadata": {},
   "source": [
    "We note that this notebook is adapted from this online tutorial: https://www.kaggle.com/code/atulanandjha/bert-testing-on-imdb-dataset-extensive-tutorial"
   ]
  },
  {
   "cell_type": "markdown",
   "id": "fd9f1eef-59f2-49a4-b8c8-db4bf3b3cdb4",
   "metadata": {},
   "source": [
    "# load raw data and split it into train/test"
   ]
  },
  {
   "cell_type": "code",
   "execution_count": 2,
   "id": "a9137954-f811-450e-adb2-79399b483245",
   "metadata": {},
   "outputs": [
    {
     "name": "stdout",
     "output_type": "stream",
     "text": [
      "length of train data is 40000\n",
      "length of test data is 10000\n"
     ]
    }
   ],
   "source": [
    "x_train, x_test, y_train, y_test = get_train_test_split(\"IMDBDataset.csv\", test_size=0.2)"
   ]
  },
  {
   "cell_type": "markdown",
   "id": "fb5e9cb0-e6d8-4a4d-928b-137fe236d043",
   "metadata": {},
   "source": [
    "# tokenizer"
   ]
  },
  {
   "cell_type": "code",
   "execution_count": 3,
   "id": "6a29df93-01b5-4ef1-a5c3-6ebb4f467ea0",
   "metadata": {},
   "outputs": [],
   "source": [
    "tokenizer = BertTokenizer.from_pretrained('bert-base-uncased', do_lower_case=True)"
   ]
  },
  {
   "cell_type": "markdown",
   "id": "a81544cb-ff48-4fe6-b247-4f3a5fb20eca",
   "metadata": {},
   "source": [
    "# a custom pytorch dataset class"
   ]
  },
  {
   "cell_type": "code",
   "execution_count": 4,
   "id": "d5af7c13-b05e-45e9-a41d-0cef0dd930ac",
   "metadata": {},
   "outputs": [],
   "source": [
    "class IMDB(Dataset):\n",
    "    def __init__(self, x, y, tokenizer, max_length=512) -> None:\n",
    "        self.x = x\n",
    "        self.y = y\n",
    "        self.tokenizer = tokenizer\n",
    "        self.max_length = max_length\n",
    "\n",
    "    def __getitem__(self, idx):\n",
    "        tokens = ['[CLS]'] + tokenizer.tokenize(self.x[idx])[:self.max_length-2] + ['[SEP]']\n",
    "        token_ids = tokenizer.convert_tokens_to_ids(tokens[:])\n",
    "        \n",
    "        label = 1 if self.y[idx] == 'positive' else 0\n",
    "        return token_ids, label\n",
    "\n",
    "    def __len__(self):\n",
    "        return len(self.x)\n",
    "    \n",
    "def collate_fn(batch, max_length=512):\n",
    "    batch_ids = [i[0] for i in batch]\n",
    "    batch_ids = torch.from_numpy(\n",
    "        pad_sequences(\n",
    "            batch_ids,\n",
    "            maxlen=max_length, truncating=\"post\", \n",
    "            padding=\"post\", dtype=\"int\",\n",
    "            value=0.0\n",
    "        )\n",
    "    )\n",
    "    batch_labels = torch.LongTensor([i[1] for i in batch])\n",
    "    # get the attention mask to avoid pad tokens (0)\n",
    "    batch_masks = torch.FloatTensor(\n",
    "        [[float(i > 0) for i in ids] for ids in batch_ids]\n",
    "    )\n",
    "    return batch_ids, batch_masks, batch_labels"
   ]
  },
  {
   "cell_type": "markdown",
   "id": "a7f9211e-3731-4cae-8781-e42309109e8a",
   "metadata": {},
   "source": [
    "# BERT classifier"
   ]
  },
  {
   "cell_type": "code",
   "execution_count": 7,
   "id": "28d17735-02bd-4022-b04d-d084ca7c3a06",
   "metadata": {},
   "outputs": [],
   "source": [
    "class BERTClassifier(nn.Module):\n",
    "    def __init__(self, dropout=0.1):\n",
    "        super(BERTClassifier, self).__init__()\n",
    "\n",
    "        self.bert = BertModel.from_pretrained('bert-base-uncased')\n",
    "        self.dropout = nn.Dropout(dropout)\n",
    "        self.linear = nn.Linear(768, 2)\n",
    "    \n",
    "    def forward(self, tokens, masks=None, freeze_bert=False):\n",
    "        if freeze_bert:\n",
    "            with torch.no_grad():\n",
    "                _, pooled_output = self.bert(tokens, attention_mask=masks, output_all_encoded_layers=False)\n",
    "                dropout_output = self.dropout(pooled_output)\n",
    "        else:\n",
    "            _, pooled_output = self.bert(tokens, attention_mask=masks, output_all_encoded_layers=False)\n",
    "            dropout_output = self.dropout(pooled_output)\n",
    "                    \n",
    "        output = self.linear(dropout_output)\n",
    "        return output"
   ]
  },
  {
   "cell_type": "code",
   "execution_count": 18,
   "id": "0b7d9e10-ca87-43f3-9a01-b16745b4a7e2",
   "metadata": {},
   "outputs": [
    {
     "data": {
      "text/plain": [
       "109483778"
      ]
     },
     "execution_count": 18,
     "metadata": {},
     "output_type": "execute_result"
    }
   ],
   "source": [
    "def count_parameters(model):\n",
    "    return sum(p.numel() for p in model.parameters() if p.requires_grad)\n",
    "\n",
    "count_parameters(BERTClassifier())"
   ]
  },
  {
   "cell_type": "markdown",
   "id": "80ae85fd-c05e-4908-ac5c-07b630bf82c1",
   "metadata": {},
   "source": [
    "# training setup"
   ]
  },
  {
   "cell_type": "code",
   "execution_count": 6,
   "id": "bf708e83-5cfe-435e-85b4-3658a07d9511",
   "metadata": {},
   "outputs": [],
   "source": [
    "# hyperparams\n",
    "batch_size = 32\n",
    "max_length = 256\n",
    "epochs = 5\n",
    "num_train_samples = 40000\n",
    "freeze_bert = False\n",
    "\n",
    "train_set = IMDB(\n",
    "    x_train[:num_train_samples], y_train[:num_train_samples], tokenizer, max_length)\n",
    "test_set = IMDB(\n",
    "    x_test, y_test, tokenizer, max_length)\n",
    "\n",
    "train_loader = DataLoader(\n",
    "    train_set, batch_size=batch_size, shuffle=True, \n",
    "    collate_fn=lambda batch: collate_fn(batch, max_length)\n",
    ")\n",
    "test_loader = DataLoader(\n",
    "    test_set, batch_size=200, shuffle=False,\n",
    "    collate_fn=lambda batch: collate_fn(batch, max_length)\n",
    ")\n",
    "\n",
    "dropout = 0.4\n",
    "\n",
    "bert_clf = BERTClassifier(dropout)\n",
    "bert_clf = bert_clf.cuda()\n",
    "\n",
    "if not freeze_bert:\n",
    "    optimizer = optim.Adam(bert_clf.parameters(), lr=3e-6)\n",
    "else:\n",
    "    optimizer = optim.Adam(bert_clf.linear.parameters(), lr=1e-3)"
   ]
  },
  {
   "cell_type": "markdown",
   "id": "2e02ba4c-9e7b-46d3-93d5-9184f50d2c47",
   "metadata": {},
   "source": [
    "# training"
   ]
  },
  {
   "cell_type": "code",
   "execution_count": 7,
   "id": "ec99ad2f-b2d3-4bff-959b-e758d4a4990d",
   "metadata": {},
   "outputs": [
    {
     "name": "stderr",
     "output_type": "stream",
     "text": [
      "Train: 100%|████████████████████████████████████████████████████████████████████████████████████████████████████████████████████████████████████████████████████████████████████████████████████████████████| 250/250 [03:03<00:00,  1.37it/s]\n",
      "Test: 100%|███████████████████████████████████████████████████████████████████████████████████████████████████████████████████████████████████████████████████████████████████████████████████████████████████| 50/50 [01:41<00:00,  2.03s/it]\n"
     ]
    },
    {
     "name": "stdout",
     "output_type": "stream",
     "text": [
      "epoch: 1\n",
      "train_loss: 0.500, train_acc: 0.765\n",
      "test_loss: 0.300, test_acc: 0.879\n",
      "--------------------------------------------------\n"
     ]
    },
    {
     "name": "stderr",
     "output_type": "stream",
     "text": [
      "Train: 100%|████████████████████████████████████████████████████████████████████████████████████████████████████████████████████████████████████████████████████████████████████████████████████████████████| 250/250 [03:04<00:00,  1.35it/s]\n",
      "Test: 100%|███████████████████████████████████████████████████████████████████████████████████████████████████████████████████████████████████████████████████████████████████████████████████████████████████| 50/50 [01:39<00:00,  1.99s/it]\n"
     ]
    },
    {
     "name": "stdout",
     "output_type": "stream",
     "text": [
      "epoch: 2\n",
      "train_loss: 0.263, train_acc: 0.895\n",
      "test_loss: 0.273, test_acc: 0.890\n",
      "--------------------------------------------------\n"
     ]
    },
    {
     "name": "stderr",
     "output_type": "stream",
     "text": [
      "Train: 100%|████████████████████████████████████████████████████████████████████████████████████████████████████████████████████████████████████████████████████████████████████████████████████████████████| 250/250 [03:01<00:00,  1.38it/s]\n",
      "Test: 100%|███████████████████████████████████████████████████████████████████████████████████████████████████████████████████████████████████████████████████████████████████████████████████████████████████| 50/50 [01:41<00:00,  2.02s/it]\n"
     ]
    },
    {
     "name": "stdout",
     "output_type": "stream",
     "text": [
      "epoch: 3\n",
      "train_loss: 0.210, train_acc: 0.919\n",
      "test_loss: 0.260, test_acc: 0.899\n",
      "--------------------------------------------------\n"
     ]
    },
    {
     "name": "stderr",
     "output_type": "stream",
     "text": [
      "Train: 100%|████████████████████████████████████████████████████████████████████████████████████████████████████████████████████████████████████████████████████████████████████████████████████████████████| 250/250 [03:02<00:00,  1.37it/s]\n",
      "Test: 100%|███████████████████████████████████████████████████████████████████████████████████████████████████████████████████████████████████████████████████████████████████████████████████████████████████| 50/50 [01:38<00:00,  1.97s/it]\n"
     ]
    },
    {
     "name": "stdout",
     "output_type": "stream",
     "text": [
      "epoch: 4\n",
      "train_loss: 0.181, train_acc: 0.934\n",
      "test_loss: 0.272, test_acc: 0.896\n",
      "--------------------------------------------------\n"
     ]
    },
    {
     "name": "stderr",
     "output_type": "stream",
     "text": [
      "Train: 100%|████████████████████████████████████████████████████████████████████████████████████████████████████████████████████████████████████████████████████████████████████████████████████████████████| 250/250 [02:57<00:00,  1.41it/s]\n",
      "Test: 100%|███████████████████████████████████████████████████████████████████████████████████████████████████████████████████████████████████████████████████████████████████████████████████████████████████| 50/50 [01:32<00:00,  1.86s/it]"
     ]
    },
    {
     "name": "stdout",
     "output_type": "stream",
     "text": [
      "epoch: 5\n",
      "train_loss: 0.148, train_acc: 0.946\n",
      "test_loss: 0.299, test_acc: 0.900\n",
      "--------------------------------------------------\n"
     ]
    },
    {
     "name": "stderr",
     "output_type": "stream",
     "text": [
      "\n"
     ]
    }
   ],
   "source": [
    "best_acc = 0.\n",
    "\n",
    "for epoch_num in range(epochs):\n",
    "    bert_clf.train()\n",
    "    train_loss = 0.\n",
    "    train_acc = 0\n",
    "    \n",
    "    for step_num, batch_data in tqdm(enumerate(train_loader), desc='Train', total=len(train_loader), leave=True):\n",
    "        token_ids, masks, labels = tuple(t.cuda() for t in batch_data)\n",
    "        logits = bert_clf(token_ids, masks)\n",
    "        \n",
    "        batch_loss = F.cross_entropy(logits, labels)\n",
    "        train_loss += batch_loss.item()\n",
    "        train_acc += logits.argmax(1).eq(labels).sum().item()\n",
    "        \n",
    "        bert_clf.zero_grad()\n",
    "        batch_loss.backward()\n",
    "        clip_grad_norm_(parameters=bert_clf.parameters(), max_norm=1.0)\n",
    "        optimizer.step()\n",
    "        \n",
    "    train_loss /= len(train_loader)\n",
    "    train_acc /= len(train_loader.dataset)\n",
    "    \n",
    "    bert_clf.eval()\n",
    "    test_loss = 0.\n",
    "    test_acc = 0\n",
    "    \n",
    "    with torch.no_grad():\n",
    "        for batch_data in tqdm(test_loader, total=len(test_loader), desc='Test', leave=True):\n",
    "            token_ids, masks, labels = tuple(t.cuda() for t in batch_data)\n",
    "            logits = bert_clf(token_ids, masks)\n",
    "\n",
    "            batch_loss = F.cross_entropy(logits, labels)\n",
    "            test_loss += batch_loss.item()\n",
    "            test_acc += logits.argmax(1).eq(labels).sum().item()\n",
    "        \n",
    "    test_loss /= len(test_loader)\n",
    "    test_acc /= len(test_loader.dataset)\n",
    "    \n",
    "    tqdm.write(f'epoch: {epoch_num+1}')\n",
    "    tqdm.write(f'train_loss: {train_loss:.3f}, train_acc: {train_acc:.3f}')\n",
    "    tqdm.write(f'test_loss: {test_loss:.3f}, test_acc: {test_acc:.3f}')\n",
    "    tqdm.write('-'*50)\n",
    "    \n",
    "    if test_acc >= best_acc:\n",
    "        old_path = f'samples{args.num_samples}_epochs{args.epochs}_dropout{args.dropout:.1f}_acc{best_acc:.4f}.pth'\n",
    "        try:\n",
    "            Path(old_path).unlink()\n",
    "        except FileNotFoundError:\n",
    "            pass\n",
    "        \n",
    "        best_acc = test_acc\n",
    "        torch.save(\n",
    "            {\n",
    "                'state_dict': bert_clf.state_dict(),\n",
    "                'train_acc': train_acc,\n",
    "                'train_loss': train_loss,\n",
    "                'test_acc': test_acc,\n",
    "                'test_loss': test_loss\n",
    "            },\n",
    "            f'samples{num_samples}_epochs{epochs}_dropout{dropout:.1f}_acc{best_acc:.4f}.pth'\n",
    "        )\n",
    "    "
   ]
  },
  {
   "cell_type": "markdown",
   "id": "cf3522b5-ee9b-4b54-b4d2-7a82df0f6d89",
   "metadata": {},
   "source": [
    "# evaluation"
   ]
  },
  {
   "cell_type": "code",
   "execution_count": 8,
   "id": "e05d16e9-496c-4025-a341-1f66f6e383b5",
   "metadata": {},
   "outputs": [],
   "source": [
    "bert_clf = BERTClassifier()\n",
    "bert_clf.load_state_dict(\n",
    "    torch.load('bert_checkpoints/samples40000_epochs5_dropout0.4_acc0.9211.pth')['state_dict'])\n",
    "bert_clf = bert_clf.cuda()"
   ]
  },
  {
   "cell_type": "code",
   "execution_count": 9,
   "id": "b8207454-d749-4bf0-acd9-7ee9dc1d9881",
   "metadata": {},
   "outputs": [],
   "source": [
    "max_length = 256"
   ]
  },
  {
   "cell_type": "markdown",
   "id": "c73f7f8b-0ad2-43ef-9716-fed742f66b6d",
   "metadata": {},
   "source": [
    "## real data"
   ]
  },
  {
   "cell_type": "code",
   "execution_count": 76,
   "id": "72b4c918-e13a-4b76-875a-b5ce324c6620",
   "metadata": {},
   "outputs": [],
   "source": [
    "test_set = IMDB(\n",
    "    x_test, y_test, tokenizer, max_length)\n",
    "\n",
    "test_loader = DataLoader(\n",
    "    test_set, batch_size=200, shuffle=False,\n",
    "    collate_fn=lambda batch: collate_fn(batch, max_length)\n",
    ")"
   ]
  },
  {
   "cell_type": "markdown",
   "id": "297d7d3b-5d83-415a-ae90-c98c74d89ef4",
   "metadata": {},
   "source": [
    "## synthetic data"
   ]
  },
  {
   "cell_type": "code",
   "execution_count": 10,
   "id": "3c375019-5f85-4cbf-b5fa-42908d2fa073",
   "metadata": {},
   "outputs": [],
   "source": [
    "method = 'ngram' # bayes\n",
    "reviews, sentiments = load_imdb(f\"synthetic_data/{method}.csv\")\n",
    "test_set = IMDB(\n",
    "    reviews, sentiments, tokenizer, max_length)\n",
    "\n",
    "test_loader = DataLoader(\n",
    "    test_set, batch_size=200, shuffle=False,\n",
    "    collate_fn=lambda batch: collate_fn(batch, max_length)\n",
    ")"
   ]
  },
  {
   "cell_type": "code",
   "execution_count": 11,
   "id": "d8abb2ad-7461-4a7a-bb71-18ddc14faff4",
   "metadata": {},
   "outputs": [
    {
     "name": "stderr",
     "output_type": "stream",
     "text": [
      "Test: 100%|█████████████████████████████████████████████████████████████████████████████████████████████████████████████████████████████████████████████████████████████████████████████████████████████████████| 5/5 [00:07<00:00,  1.46s/it]"
     ]
    },
    {
     "name": "stdout",
     "output_type": "stream",
     "text": [
      "0.4182905197143555 0.867\n"
     ]
    },
    {
     "name": "stderr",
     "output_type": "stream",
     "text": [
      "\n"
     ]
    }
   ],
   "source": [
    "bert_clf.eval()\n",
    "test_loss = 0.\n",
    "test_acc = 0\n",
    "correct = []\n",
    "\n",
    "with torch.no_grad():\n",
    "    for batch_data in tqdm(test_loader, total=len(test_loader), desc='Test', leave=True):\n",
    "        token_ids, masks, labels = tuple(t.cuda() for t in batch_data)\n",
    "        logits = bert_clf(token_ids, masks)\n",
    "\n",
    "        batch_loss = F.cross_entropy(logits, labels)\n",
    "        test_loss += batch_loss.item()\n",
    "        test_acc += logits.argmax(1).eq(labels).sum().item()\n",
    "        \n",
    "        correct.append(logits.argmax(1).eq(labels).cpu())\n",
    "\n",
    "test_loss /= len(test_loader)\n",
    "test_acc /= len(test_loader.dataset)\n",
    "print(test_loss, test_acc)"
   ]
  },
  {
   "cell_type": "markdown",
   "id": "6eef6a61-44d0-4a37-a622-992bf8ded62a",
   "metadata": {},
   "source": [
    "# qualitative examination"
   ]
  },
  {
   "cell_type": "code",
   "execution_count": 78,
   "id": "a2be0b98-b5b8-428a-bffa-0d070a815542",
   "metadata": {},
   "outputs": [],
   "source": [
    "correct = torch.cat(correct)"
   ]
  },
  {
   "cell_type": "code",
   "execution_count": 79,
   "id": "d12b5e88-d156-4e14-b7c4-b736083ab1bb",
   "metadata": {},
   "outputs": [
    {
     "data": {
      "text/plain": [
       "array([\"I found it real shocking at first to see William Shakespeare's love masterpiece reworked into a gory, violent and kinky sensual movie adaptation. But after you watched it once, it sort of grows on you when you watch it the second and third times, as you come over the shock and start appreciating the movie on its own merits - solid acting, good dialogue, nice sequencing and choreography, not-too-bad soundtrack and some of the (special) effects that go on. Oh, and also the ending. What a riot! eos\",\n",
       "       \"The beginning of this movie had me doubting that it would be little more than a typical B sci-fi flick. But, as it progressed I began to get interested and I saw the whole thing through. The premise is interesting, original, and has the makings of making a classic. Alas, it instead ended up a mediocre movie, done in by the usual factors which turn a potentially good movie into a bad movie (bad acting, low budget etc.). I'm interested to see how this would turn out if it were remade with good actors and a big hollywood budget. eos\",\n",
       "       \"This movie is a disgrace to the Major League Franchise. I live in Minnesota and even I can't believe they dumped Cleveland. (Yes I realize at the time the real Indians were pretty good, and the Twins had taken over their spot at the bottom of the American League, but still be consistent.) Anyway I loved the first Major League, liked the second, and always looked forward to the third, when the Indians would finally go all the way to the series. You can't tell me this wasn't the plan after the second film was completed. What Happened? Anyways if your a true fan of the original Major League do yourself a favor and don't watch this junk. eos\"],\n",
       "      dtype='<U8000')"
      ]
     },
     "execution_count": 79,
     "metadata": {},
     "output_type": "execute_result"
    }
   ],
   "source": [
    "indices = np.array([10,20,30])\n",
    "\n",
    "num = 5\n",
    "np.array(x_test)[correct.numpy().nonzero()[0][indices]]"
   ]
  },
  {
   "cell_type": "code",
   "execution_count": 80,
   "id": "0fe112da-026a-40f2-b355-b01ddb002f98",
   "metadata": {},
   "outputs": [
    {
     "data": {
      "text/plain": [
       "array(['positive', 'negative', 'negative'], dtype=object)"
      ]
     },
     "execution_count": 80,
     "metadata": {},
     "output_type": "execute_result"
    }
   ],
   "source": [
    "np.array(y_test)[correct.numpy().nonzero()[0][indices]]"
   ]
  },
  {
   "cell_type": "code",
   "execution_count": 81,
   "id": "590511bb-4e6a-40b2-9bf0-cd1acdf3b3ca",
   "metadata": {},
   "outputs": [
    {
     "data": {
      "text/plain": [
       "array([\"This movie is beautiful in all ways. It is visually stunning, and this is a good thing since the dialogue would only take up a page or two of paper. The acting is superb; it is subtle, passionate and intense. Ben Daniels does a fabulous job of turning himself into an animal, and mixing that wild nature with a man's overbearing passion and honor. There is not one flaw, not one mistake or wrong moment to be found anywhere. It is completely perfect, but only if you understand what you're going to experience. It isn't a movie for anyone who wants normality. eos\",\n",
       "       \"I thought the film could be a bit more complex,in a psychological sense perhaps, but the action and voice acting were top notch. The animation was heavy CG in many scenes, but very good ones at that. This is one of the Batman Returns/Forever type films, which include romances and the conflicts of Wayne and motives for dating. 007 fans would love this, and so would the females, great theme song! Wayne was portrayed very well in this film, and the Penquin was back to his true form, no mutant genes in him this time! I liked the fact Robin wasn't used too much, Tim Drake was just a good computer nerd, somewhat of an Indigo child or mind of the future.  The supporting cast was made up of some soap opera stars, decent talents and the characters were drawn to look like the voice actors too. Kelly Ripa was hilarious in this film.  I rate this below Phantasm, Return of the Joker, and Batman vs. Dracula, but liked the smarter script better than I enjoyed Subzero. 7/10 eos\",\n",
       "       \"As it is often the case, the impressive and explosive trailers of Asian films add up to nothing more than lackluster stories. Similar to Unleashed (which was great,) Dog Bite Dog tells a story where men are raised as ferocious savage dogs that carry out their master's bidding. The main characters, an emotionally undeveloped, amoral killer who is matched against an equally unstable police officer, are far from the common heroes and villains we often see. In fact, by the end, you lose track of who you're supposed to empathize with, failing to feel even the slightest emotion for either of the men \\x96 whether that was the failure of the director or perhaps the underlining message he was trying to tell is up to you to decide.  Although the beginning of the film was filled with intrigue and unpredictability, by the half-way point it slopped down to a humdrum story of survival and revenge. The suspense which was evident at first soon disappeared because of a grossly mismatched music score which brought down the potentially effective story telling. And in the end, you were left feeling that all that detailed background information and introspection of the main characters was somehow very unnecessary.  On the plus side, the transition in story from point a to point b was quite atypical compared to US movies \\x96 so those who aren't familiar with Asian films and are tired of Hollywood's predictability should check it out.  The white balance seemed off throughout most of the film. It was like looking into a picture shot on fluorescent when it was supposed to be set on tungsten. Maybe I'm the only one, but it strained my eyes.  The movie also enjoyed playing tricks on you \\x96 an interesting build-up gave me hope for the slow moving story until it was diverted to a low budget, low speed chase scene. And just when you think you were going to get an unanswered indie ending with a mix of Shakespearean tragedy, you realize that it's not an ending at all, but rather a transition into a wacky country-music montage about peace and serenity.  Throw in some grisly from-behind choke scenes, a moment of redemption unexpectedly brought back into savagery and back again the other way, Asians' fascination with bodily fluids and a horrible music score that didn't match the film, and you get the average bland Asian thriller.  I just don't get why every fight scene was overlaid with clips of roaring lions \\x85I thought they were supposed to symbolize dogs? Ultimately, in the end, we are reminded about a true killer that still lurks amongst us \\x96 tetanus.  4/10 eos\",\n",
       "       \"Sadly it was misguided. This movie stunk from start to finish. It was hard to watch because I used to watch Clarissa Explains It All every day on Nickelodeon. I LOVED her. Then the next thing I found she did a spread in Maxim and she was gorgeous! I haven't really heard anything about her until I watched this movie on accident. I couldn't believe she would even let something like this be seen with her name all over it. Everything about it was wrong but it still looked like someone somewhere in the team was trying really really hard to save a sunk ship. Too bad.. I hope she continues to act and I would love to see her with a real cast in a real movie. eos\",\n",
       "       'This was among the STUPIDEST and PREACHIEST of the anti-nuke films out of the 1980s.  The idea that a kid and a basketball star could \"change the world\" is pretty far-fetched, given how many \"children\\'s peace marches\" and \"celebrity protests\" there were and ARE.  But the idea that the Soviet Union would agree to a TOTAL nuclear disarmament, because some apparatchik kids learned of a \"silent protest\" in the West, is ludicrous.  What ended the Cold War? America\\'s tough, dare I say \"Reaganesque\" stance and the internal failures of socialism. It was NOT the peace marches, the \"die-ins\" or films like \"Amazing Grace & Chuck\", \"Miracle Mile\", or \"Testament\". eos'],\n",
       "      dtype='<U8000')"
      ]
     },
     "execution_count": 81,
     "metadata": {},
     "output_type": "execute_result"
    }
   ],
   "source": [
    "np.array(x_test)[1-correct.numpy().nonzero()[0][:num]]"
   ]
  },
  {
   "cell_type": "code",
   "execution_count": 82,
   "id": "9a389e73-5811-4527-a93c-42ba8f83a21c",
   "metadata": {},
   "outputs": [
    {
     "data": {
      "text/plain": [
       "array(['positive', 'positive', 'negative', 'negative', 'negative'],\n",
       "      dtype=object)"
      ]
     },
     "execution_count": 82,
     "metadata": {},
     "output_type": "execute_result"
    }
   ],
   "source": [
    "np.array(y_test)[1-correct.numpy().nonzero()[0][:num]]"
   ]
  },
  {
   "cell_type": "markdown",
   "id": "39c35a78-c134-45d9-b876-2f5d1f2b4bc9",
   "metadata": {},
   "source": [
    "# plot"
   ]
  },
  {
   "cell_type": "code",
   "execution_count": 22,
   "id": "87646231-b471-4afa-93f4-ca2e649e71f5",
   "metadata": {},
   "outputs": [],
   "source": [
    "file_list = [\n",
    "    'samples4000_epochs5_dropout0.4_acc0.8903.pth',\n",
    "    'samples8000_epochs5_dropout0.4_acc0.8997.pth',\n",
    "    'samples20000_epochs5_dropout0.4_acc0.9097.pth',\n",
    "    'samples40000_epochs5_dropout0.4_acc0.9211.pth'\n",
    "]\n",
    "\n",
    "train_acc = []\n",
    "test_acc = []\n",
    "\n",
    "for f in file_list:\n",
    "    ckpt = torch.load(os.path.join('bert_checkpoints', f), map_location='cpu')\n",
    "    train_acc.append(ckpt['train_acc'])\n",
    "    test_acc.append(ckpt['test_acc'])"
   ]
  },
  {
   "cell_type": "code",
   "execution_count": 25,
   "id": "e98571a6-9112-451b-94a6-b5c99bb12121",
   "metadata": {},
   "outputs": [],
   "source": [
    "file_list = [\n",
    "    'samples40000_epochs5_dropout0.1_acc0.9194.pth',\n",
    "    'samples40000_epochs5_dropout0.2_acc0.9180.pth',\n",
    "    'samples40000_epochs5_dropout0.3_acc0.9199.pth',\n",
    "    'samples40000_epochs5_dropout0.4_acc0.9211.pth',\n",
    "    'samples40000_epochs5_dropout0.5_acc0.9180.pth',\n",
    "]\n",
    "\n",
    "d_train_acc = []\n",
    "d_test_acc = []\n",
    "\n",
    "for f in file_list:\n",
    "    ckpt = torch.load(os.path.join('bert_checkpoints', f), map_location='cpu')\n",
    "    d_train_acc.append(ckpt['train_acc'])\n",
    "    d_test_acc.append(ckpt['test_acc'])"
   ]
  },
  {
   "cell_type": "code",
   "execution_count": 23,
   "id": "41251788-50d4-4e7c-a626-d2cc322e1055",
   "metadata": {},
   "outputs": [],
   "source": [
    "import matplotlib.pyplot as plt\n",
    "%matplotlib inline"
   ]
  },
  {
   "cell_type": "code",
   "execution_count": 71,
   "id": "0b4a38ab-208d-4c3b-bc9a-f4cf0835829c",
   "metadata": {},
   "outputs": [
    {
     "data": {
      "text/plain": [
       "[Text(0, 0, '0.890'),\n",
       " Text(0, 0, '0.900'),\n",
       " Text(0, 0, '0.910'),\n",
       " Text(0, 0, '0.921')]"
      ]
     },
     "execution_count": 71,
     "metadata": {},
     "output_type": "execute_result"
    },
    {
     "data": {
      "image/png": "[encoded data removed]",
      "text/plain": [
       "<Figure size 600x300 with 1 Axes>"
      ]
     },
     "metadata": {},
     "output_type": "display_data"
    }
   ],
   "source": [
    "fig, ax = plt.subplots(1,1,figsize=(4,2),dpi=150)\n",
    "\n",
    "width = 0.36\n",
    "x = np.array(range(4))\n",
    "\n",
    "ax.hlines(y=0.891, xmin=-0.5, xmax=3.5, color='gray', linestyle='dashed', label='LSTM 100% data baseline')\n",
    "\n",
    "ax.bar(x-width/2, train_acc, width=width, label='train acc', color='lightsalmon', alpha=0.95)\n",
    "bars = ax.bar(x+width/2, test_acc, width=width, label='test acc', color='lightblue', alpha=0.95)\n",
    "ax.set_ylim(0.8, 1)\n",
    "ax.spines['top'].set_visible(False)\n",
    "ax.spines['right'].set_visible(False)\n",
    "ax.set_xticks([0, 1, 2, 3])\n",
    "ax.set_xticklabels(['10%', '20%', '50%', '100%'])\n",
    "ax.legend(fontsize=6)\n",
    "ax.set_xlabel('Percentage of training data')\n",
    "ax.set_ylabel('Accuracy')\n",
    "ax.bar_label(bars, fmt='%.3f', fontsize=7)"
   ]
  },
  {
   "cell_type": "code",
   "execution_count": null,
   "id": "b8ac69f9-33cd-49ab-a232-0a8e8c4a5375",
   "metadata": {},
   "outputs": [],
   "source": []
  }
 ],
 "metadata": {
  "kernelspec": {
   "display_name": "base",
   "language": "python",
   "name": "python3"
  },
  "language_info": {
   "codemirror_mode": {
    "name": "ipython",
    "version": 3
   },
   "file_extension": ".py",
   "mimetype": "text/x-python",
   "name": "python",
   "nbconvert_exporter": "python",
   "pygments_lexer": "ipython3",
   "version": "3.7.4 (default, Aug 13 2019, 15:17:50) \n[Clang 4.0.1 (tags/RELEASE_401/final)]"
  },
  "vscode": {
   "interpreter": {
    "hash": "658a495a28fb26d4be7ff4ae2e09ffc0313c2b4f1a7e591bc5082d200ce40a34"
   }
  }
 },
 "nbformat": 4,
 "nbformat_minor": 5
}
